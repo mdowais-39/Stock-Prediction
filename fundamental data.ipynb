{
 "cells": [
  {
   "cell_type": "code",
   "execution_count": 1,
   "id": "34125feb",
   "metadata": {},
   "outputs": [
    {
     "name": "stdout",
     "output_type": "stream",
     "text": [
      "Collecting yfinance\n",
      "  Downloading yfinance-0.2.62-py2.py3-none-any.whl.metadata (5.8 kB)\n",
      "Requirement already satisfied: pandas>=1.3.0 in c:\\users\\mdkai\\appdata\\local\\programs\\python\\python311\\lib\\site-packages (from yfinance) (2.2.3)\n",
      "Requirement already satisfied: numpy>=1.16.5 in c:\\users\\mdkai\\appdata\\local\\programs\\python\\python311\\lib\\site-packages (from yfinance) (1.26.4)\n",
      "Requirement already satisfied: requests>=2.31 in c:\\users\\mdkai\\appdata\\local\\programs\\python\\python311\\lib\\site-packages (from yfinance) (2.32.3)\n",
      "Collecting multitasking>=0.0.7 (from yfinance)\n",
      "  Downloading multitasking-0.0.11-py3-none-any.whl.metadata (5.5 kB)\n",
      "Requirement already satisfied: platformdirs>=2.0.0 in c:\\users\\mdkai\\appdata\\local\\programs\\python\\python311\\lib\\site-packages (from yfinance) (4.3.6)\n",
      "Requirement already satisfied: pytz>=2022.5 in c:\\users\\mdkai\\appdata\\local\\programs\\python\\python311\\lib\\site-packages (from yfinance) (2025.1)\n",
      "Collecting frozendict>=2.3.4 (from yfinance)\n",
      "  Downloading frozendict-2.4.6-py311-none-any.whl.metadata (23 kB)\n",
      "Collecting peewee>=3.16.2 (from yfinance)\n",
      "  Downloading peewee-3.18.1.tar.gz (3.0 MB)\n",
      "     ---------------------------------------- 0.0/3.0 MB ? eta -:--:--\n",
      "     ---------------------------------------- 3.0/3.0 MB 35.4 MB/s eta 0:00:00\n",
      "  Installing build dependencies: started\n",
      "  Installing build dependencies: finished with status 'done'\n",
      "  Getting requirements to build wheel: started\n",
      "  Getting requirements to build wheel: finished with status 'done'\n",
      "  Preparing metadata (pyproject.toml): started\n",
      "  Preparing metadata (pyproject.toml): finished with status 'done'\n",
      "Requirement already satisfied: beautifulsoup4>=4.11.1 in c:\\users\\mdkai\\appdata\\local\\programs\\python\\python311\\lib\\site-packages (from yfinance) (4.13.3)\n",
      "Collecting curl_cffi>=0.7 (from yfinance)\n",
      "  Downloading curl_cffi-0.11.3-cp39-abi3-win_amd64.whl.metadata (15 kB)\n",
      "Requirement already satisfied: protobuf>=3.19.0 in c:\\users\\mdkai\\appdata\\local\\programs\\python\\python311\\lib\\site-packages (from yfinance) (4.25.7)\n",
      "Requirement already satisfied: websockets>=13.0 in c:\\users\\mdkai\\appdata\\local\\programs\\python\\python311\\lib\\site-packages (from yfinance) (15.0.1)\n",
      "Requirement already satisfied: soupsieve>1.2 in c:\\users\\mdkai\\appdata\\local\\programs\\python\\python311\\lib\\site-packages (from beautifulsoup4>=4.11.1->yfinance) (2.6)\n",
      "Requirement already satisfied: typing-extensions>=4.0.0 in c:\\users\\mdkai\\appdata\\local\\programs\\python\\python311\\lib\\site-packages (from beautifulsoup4>=4.11.1->yfinance) (4.12.2)\n",
      "Requirement already satisfied: cffi>=1.12.0 in c:\\users\\mdkai\\appdata\\local\\programs\\python\\python311\\lib\\site-packages (from curl_cffi>=0.7->yfinance) (1.17.1)\n",
      "Requirement already satisfied: certifi>=2024.2.2 in c:\\users\\mdkai\\appdata\\local\\programs\\python\\python311\\lib\\site-packages (from curl_cffi>=0.7->yfinance) (2025.1.31)\n",
      "Requirement already satisfied: python-dateutil>=2.8.2 in c:\\users\\mdkai\\appdata\\local\\programs\\python\\python311\\lib\\site-packages (from pandas>=1.3.0->yfinance) (2.9.0.post0)\n",
      "Requirement already satisfied: tzdata>=2022.7 in c:\\users\\mdkai\\appdata\\local\\programs\\python\\python311\\lib\\site-packages (from pandas>=1.3.0->yfinance) (2025.1)\n",
      "Requirement already satisfied: charset-normalizer<4,>=2 in c:\\users\\mdkai\\appdata\\local\\programs\\python\\python311\\lib\\site-packages (from requests>=2.31->yfinance) (3.4.1)\n",
      "Requirement already satisfied: idna<4,>=2.5 in c:\\users\\mdkai\\appdata\\local\\programs\\python\\python311\\lib\\site-packages (from requests>=2.31->yfinance) (3.10)\n",
      "Requirement already satisfied: urllib3<3,>=1.21.1 in c:\\users\\mdkai\\appdata\\local\\programs\\python\\python311\\lib\\site-packages (from requests>=2.31->yfinance) (2.3.0)\n",
      "Requirement already satisfied: pycparser in c:\\users\\mdkai\\appdata\\local\\programs\\python\\python311\\lib\\site-packages (from cffi>=1.12.0->curl_cffi>=0.7->yfinance) (2.22)\n",
      "Requirement already satisfied: six>=1.5 in c:\\users\\mdkai\\appdata\\local\\programs\\python\\python311\\lib\\site-packages (from python-dateutil>=2.8.2->pandas>=1.3.0->yfinance) (1.17.0)\n",
      "Downloading yfinance-0.2.62-py2.py3-none-any.whl (118 kB)\n",
      "Downloading curl_cffi-0.11.3-cp39-abi3-win_amd64.whl (1.4 MB)\n",
      "   ---------------------------------------- 0.0/1.4 MB ? eta -:--:--\n",
      "   ---------------------------------------- 1.4/1.4 MB 6.2 MB/s eta 0:00:00\n",
      "Downloading frozendict-2.4.6-py311-none-any.whl (16 kB)\n",
      "Downloading multitasking-0.0.11-py3-none-any.whl (8.5 kB)\n",
      "Building wheels for collected packages: peewee\n",
      "  Building wheel for peewee (pyproject.toml): started\n",
      "  Building wheel for peewee (pyproject.toml): finished with status 'done'\n",
      "  Created wheel for peewee: filename=peewee-3.18.1-py3-none-any.whl size=139097 sha256=b41a9908a3ce37220fb1a32e7c030811112f55a2dbb53829636593761ad2451e\n",
      "  Stored in directory: c:\\users\\mdkai\\appdata\\local\\pip\\cache\\wheels\\25\\cb\\79\\a133a0d1d75f318a96614ed7fb97bdf2f35a7b6c4d4e426e3f\n",
      "Successfully built peewee\n",
      "Installing collected packages: peewee, multitasking, frozendict, curl_cffi, yfinance\n",
      "Successfully installed curl_cffi-0.11.3 frozendict-2.4.6 multitasking-0.0.11 peewee-3.18.1 yfinance-0.2.62\n",
      "Note: you may need to restart the kernel to use updated packages.\n"
     ]
    },
    {
     "name": "stderr",
     "output_type": "stream",
     "text": [
      "\n",
      "[notice] A new release of pip is available: 25.0.1 -> 25.1.1\n",
      "[notice] To update, run: python.exe -m pip install --upgrade pip\n"
     ]
    }
   ],
   "source": [
    "pip install yfinance"
   ]
  },
  {
   "cell_type": "code",
   "execution_count": 2,
   "id": "4c8e19fc",
   "metadata": {},
   "outputs": [
    {
     "name": "stdout",
     "output_type": "stream",
     "text": [
      "Stock: AAPL\n",
      "P/E Ratio (Trailing): 31.324575\n",
      "P/E Ratio (Forward): 24.388687\n",
      "Earnings Per Share (EPS): 6.47\n",
      "Dividend Yield: 52.00%\n"
     ]
    }
   ],
   "source": [
    "import yfinance as yf\n",
    "\n",
    "# Specify the stock ticker symbol (e.g., Apple = AAPL)\n",
    "ticker_symbol = \"AAPL\"\n",
    "\n",
    "# Create a Ticker object\n",
    "stock = yf.Ticker(ticker_symbol)\n",
    "\n",
    "# Get fundamental data from the 'info' attribute\n",
    "info = stock.info\n",
    "\n",
    "# Extract specific fundamental metrics\n",
    "pe_ratio = info.get('trailingPE')  # Trailing P/E ratio\n",
    "forward_pe = info.get('forwardPE')  # Forward P/E ratio\n",
    "eps = info.get('trailingEps')      # Trailing EPS\n",
    "dividend_yield = info.get('dividendYield')  # Dividend yield (as a decimal, e.g., 0.01 = 1%)\n",
    "\n",
    "# Print the data\n",
    "print(f\"Stock: {ticker_symbol}\")\n",
    "print(f\"P/E Ratio (Trailing): {pe_ratio}\")\n",
    "print(f\"P/E Ratio (Forward): {forward_pe}\")\n",
    "print(f\"Earnings Per Share (EPS): {eps}\")\n",
    "print(f\"Dividend Yield: {dividend_yield*100 if dividend_yield else 0:.2f}%\")"
   ]
  },
  {
   "cell_type": "code",
   "execution_count": 3,
   "id": "abc8278d",
   "metadata": {},
   "outputs": [
    {
     "name": "stdout",
     "output_type": "stream",
     "text": [
      "{'address1': 'One Apple Park Way', 'city': 'Cupertino', 'state': 'CA', 'zip': '95014', 'country': 'United States', 'phone': '(408) 996-1010', 'website': 'https://www.apple.com', 'industry': 'Consumer Electronics', 'industryKey': 'consumer-electronics', 'industryDisp': 'Consumer Electronics', 'sector': 'Technology', 'sectorKey': 'technology', 'sectorDisp': 'Technology', 'longBusinessSummary': 'Apple Inc. designs, manufactures, and markets smartphones, personal computers, tablets, wearables, and accessories worldwide. The company offers iPhone, a line of smartphones; Mac, a line of personal computers; iPad, a line of multi-purpose tablets; and wearables, home, and accessories comprising AirPods, Apple TV, Apple Watch, Beats products, and HomePod. It also provides AppleCare support and cloud services; and operates various platforms, including the App Store that allow customers to discover and download applications and digital content, such as books, music, video, games, and podcasts, as well as advertising services include third-party licensing arrangements and its own advertising platforms. In addition, the company offers various subscription-based services, such as Apple Arcade, a game subscription service; Apple Fitness+, a personalized fitness service; Apple Music, which offers users a curated listening experience with on-demand radio stations; Apple News+, a subscription news and magazine service; Apple TV+, which offers exclusive original content; Apple Card, a co-branded credit card; and Apple Pay, a cashless payment service, as well as licenses its intellectual property. The company serves consumers, and small and mid-sized businesses; and the education, enterprise, and government markets. It distributes third-party applications for its products through the App Store. The company also sells its products through its retail and online stores, and direct sales force; and third-party cellular network carriers, wholesalers, retailers, and resellers. Apple Inc. was founded in 1976 and is headquartered in Cupertino, California.', 'fullTimeEmployees': 164000, 'companyOfficers': [{'maxAge': 1, 'name': 'Mr. Timothy D. Cook', 'age': 63, 'title': 'CEO & Director', 'yearBorn': 1961, 'fiscalYear': 2024, 'totalPay': 16520856, 'exercisedValue': 0, 'unexercisedValue': 0}, {'maxAge': 1, 'name': 'Mr. Jeffrey E. Williams', 'age': 60, 'title': 'Chief Operating Officer', 'yearBorn': 1964, 'fiscalYear': 2024, 'totalPay': 5020737, 'exercisedValue': 0, 'unexercisedValue': 0}, {'maxAge': 1, 'name': 'Ms. Katherine L. Adams', 'age': 60, 'title': 'Senior VP, General Counsel & Secretary', 'yearBorn': 1964, 'fiscalYear': 2024, 'totalPay': 5022182, 'exercisedValue': 0, 'unexercisedValue': 0}, {'maxAge': 1, 'name': \"Ms. Deirdre  O'Brien\", 'age': 57, 'title': 'Chief People Officer & Senior VP of Retail', 'yearBorn': 1967, 'fiscalYear': 2024, 'totalPay': 5022182, 'exercisedValue': 0, 'unexercisedValue': 0}, {'maxAge': 1, 'name': 'Mr. Kevan  Parekh', 'age': 52, 'title': 'Senior VP & CFO', 'yearBorn': 1972, 'fiscalYear': 2024, 'exercisedValue': 0, 'unexercisedValue': 0}, {'maxAge': 1, 'name': 'Mr. Chris  Kondo', 'title': 'Senior Director of Corporate Accounting', 'fiscalYear': 2024, 'exercisedValue': 0, 'unexercisedValue': 0}, {'maxAge': 1, 'name': 'Suhasini  Chandramouli', 'title': 'Director of Investor Relations', 'fiscalYear': 2024, 'exercisedValue': 0, 'unexercisedValue': 0}, {'maxAge': 1, 'name': 'Ms. Kristin Huguet Quayle', 'title': 'Vice President of Worldwide Communications', 'fiscalYear': 2024, 'exercisedValue': 0, 'unexercisedValue': 0}, {'maxAge': 1, 'name': 'Mr. Greg  Joswiak', 'title': 'Senior Vice President of Worldwide Marketing', 'fiscalYear': 2024, 'exercisedValue': 0, 'unexercisedValue': 0}, {'maxAge': 1, 'name': 'Mr. Adrian  Perica', 'age': 50, 'title': 'Vice President of Corporate Development', 'yearBorn': 1974, 'fiscalYear': 2024, 'exercisedValue': 0, 'unexercisedValue': 0}], 'auditRisk': 7, 'boardRisk': 1, 'compensationRisk': 3, 'shareHolderRightsRisk': 1, 'overallRisk': 1, 'governanceEpochDate': 1748736000, 'compensationAsOfEpochDate': 1735603200, 'irWebsite': 'http://investor.apple.com/', 'executiveTeam': [], 'maxAge': 86400, 'priceHint': 2, 'previousClose': 201.45, 'open': 200.6, 'dayLow': 200.57, 'dayHigh': 204.35, 'regularMarketPreviousClose': 201.45, 'regularMarketOpen': 200.6, 'regularMarketDayLow': 200.57, 'regularMarketDayHigh': 204.35, 'dividendRate': 1.04, 'dividendYield': 0.52, 'exDividendDate': 1747008000, 'payoutRatio': 0.1558, 'fiveYearAvgDividendYield': 0.56, 'beta': 1.211, 'trailingPE': 31.324575, 'forwardPE': 24.388687, 'volume': 51337372, 'regularMarketVolume': 51337372, 'averageVolume': 61653207, 'averageVolume10days': 52211490, 'averageDailyVolume10Day': 52211490, 'bid': 190.52, 'ask': 210.7, 'bidSize': 1, 'askSize': 1, 'marketCap': 3027038633984, 'fiftyTwoWeekLow': 169.21, 'fiftyTwoWeekHigh': 260.1, 'priceToSalesTrailing12Months': 7.5606785, 'fiftyDayAverage': 202.9268, 'twoHundredDayAverage': 224.87386, 'trailingAnnualDividendRate': 1.0, 'trailingAnnualDividendYield': 0.004964011, 'currency': 'USD', 'tradeable': False, 'enterpriseValue': 3076731961344, 'profitMargins': 0.24301, 'floatShares': 14911480604, 'sharesOutstanding': 14935799808, 'sharesShort': 94828443, 'sharesShortPriorMonth': 108598767, 'sharesShortPreviousMonthDate': 1745971200, 'dateShortInterest': 1748563200, 'sharesPercentSharesOut': 0.0063, 'heldPercentInsiders': 0.02085, 'heldPercentInstitutions': 0.6289, 'shortRatio': 1.67, 'shortPercentOfFloat': 0.0064, 'impliedSharesOutstanding': 15118999552, 'bookValue': 4.471, 'priceToBook': 45.329903, 'lastFiscalYearEnd': 1727481600, 'nextFiscalYearEnd': 1759017600, 'mostRecentQuarter': 1743206400, 'earningsQuarterlyGrowth': 0.048, 'netIncomeToCommon': 97294000128, 'trailingEps': 6.47, 'forwardEps': 8.31, 'lastSplitFactor': '4:1', 'lastSplitDate': 1598832000, 'enterpriseToRevenue': 7.685, 'enterpriseToEbitda': 22.156, '52WeekChange': -0.048810244, 'SandP52WeekChange': 0.11395991, 'lastDividendValue': 0.26, 'lastDividendDate': 1747008000, 'quoteType': 'EQUITY', 'currentPrice': 202.67, 'targetHighPrice': 300.0, 'targetLowPrice': 170.62, 'targetMeanPrice': 228.85326, 'targetMedianPrice': 232.5, 'recommendationMean': 2.1087, 'recommendationKey': 'buy', 'numberOfAnalystOpinions': 40, 'totalCash': 48497999872, 'totalCashPerShare': 3.247, 'ebitda': 138865999872, 'totalDebt': 98186002432, 'quickRatio': 0.68, 'currentRatio': 0.821, 'totalRevenue': 400366010368, 'debtToEquity': 146.994, 'revenuePerShare': 26.455, 'returnOnAssets': 0.23809999, 'returnOnEquity': 1.38015, 'grossProfits': 186699005952, 'freeCashflow': 97251500032, 'operatingCashflow': 109555998720, 'earningsGrowth': 0.078, 'revenueGrowth': 0.051, 'grossMargins': 0.46632, 'ebitdaMargins': 0.34685, 'operatingMargins': 0.31028998, 'financialCurrency': 'USD', 'symbol': 'AAPL', 'language': 'en-US', 'region': 'US', 'typeDisp': 'Equity', 'quoteSourceName': 'Nasdaq Real Time Price', 'triggerable': True, 'customPriceAlertConfidence': 'HIGH', 'firstTradeDateMilliseconds': 345479400000, 'preMarketChange': 0.13000488, 'preMarketChangePercent': 0.064146094, 'preMarketPrice': 202.8, 'regularMarketChange': 1.22, 'regularMarketDayRange': '200.57 - 204.35', 'fullExchangeName': 'NasdaqGS', 'averageDailyVolume3Month': 61653207, 'fiftyTwoWeekLowChange': 33.45999, 'fiftyTwoWeekLowChangePercent': 0.19774239, 'fiftyTwoWeekRange': '169.21 - 260.1', 'fiftyTwoWeekHighChange': -57.430008, 'fiftyTwoWeekHighChangePercent': -0.22079971, 'fiftyTwoWeekChangePercent': -4.8810244, 'dividendDate': 1747267200, 'earningsTimestamp': 1746131400, 'earningsTimestampStart': 1753873140, 'earningsTimestampEnd': 1754308800, 'earningsCallTimestampStart': 1746133200, 'earningsCallTimestampEnd': 1746133200, 'isEarningsDateEstimate': True, 'epsTrailingTwelveMonths': 6.47, 'epsForward': 8.31, 'epsCurrentYear': 7.18956, 'priceEpsCurrentYear': 28.189486, 'fiftyDayAverageChange': -0.25680542, 'fiftyDayAverageChangePercent': -0.0012655077, 'twoHundredDayAverageChange': -22.203857, 'twoHundredDayAverageChangePercent': -0.09873917, 'sourceInterval': 15, 'exchangeDataDelayedBy': 0, 'averageAnalystRating': '2.1 - Buy', 'cryptoTradeable': False, 'marketState': 'PRE', 'corporateActions': [], 'preMarketTime': 1749639361, 'regularMarketTime': 1749585600, 'regularMarketChangePercent': 0.60561, 'regularMarketPrice': 202.67, 'shortName': 'Apple Inc.', 'exchange': 'NMS', 'messageBoardId': 'finmb_24937', 'exchangeTimezoneName': 'America/New_York', 'exchangeTimezoneShortName': 'EDT', 'gmtOffSetMilliseconds': -14400000, 'market': 'us_market', 'esgPopulated': False, 'longName': 'Apple Inc.', 'hasPrePostMarketData': True, 'displayName': 'Apple', 'trailingPegRatio': 1.8291}\n"
     ]
    }
   ],
   "source": [
    "print(info)"
   ]
  },
  {
   "cell_type": "code",
   "execution_count": 4,
   "id": "4a5be163",
   "metadata": {},
   "outputs": [
    {
     "name": "stdout",
     "output_type": "stream",
     "text": [
      "P/E Ratio: 31.32\n",
      "P/B Ratio: 45.33\n",
      "P/S Ratio: 7.56\n",
      "EPS: 6.47\n",
      "Profit Margin: 24.30\n",
      "ROE: 138.01\n",
      "Dividend Yield: 52.00\n",
      "Payout Ratio: 15.58\n",
      "Debt-to-Equity: 146.99\n",
      "Market Cap: 3027038633984.00\n",
      "Beta: 1.21\n",
      "Revenue Growth (YoY): 2.02%\n"
     ]
    },
    {
     "name": "stderr",
     "output_type": "stream",
     "text": [
      "C:\\Users\\mdkai\\AppData\\Local\\Temp\\ipykernel_25648\\3724259433.py:30: FutureWarning: Series.__getitem__ treating keys as positions is deprecated. In a future version, integer keys will always be treated as labels (consistent with DataFrame behavior). To access a value by position, use `ser.iloc[pos]`\n",
      "  revenue_growth = ((revenue[0] - revenue[1]) / revenue[1] * 100) if len(revenue) > 1 else 0\n"
     ]
    }
   ],
   "source": [
    "import yfinance as yf\n",
    "\n",
    "ticker_symbol = \"AAPL\"\n",
    "stock = yf.Ticker(ticker_symbol)\n",
    "info = stock.info\n",
    "\n",
    "# Fundamental data dictionary\n",
    "fundamentals = {\n",
    "    \"P/E Ratio\": info.get('trailingPE', 'N/A'),\n",
    "    \"P/B Ratio\": info.get('priceToBook', 'N/A'),\n",
    "    \"P/S Ratio\": info.get('priceToSalesTrailing12Months', 'N/A'),\n",
    "    \"EPS\": info.get('trailingEps', 'N/A'),\n",
    "    \"Profit Margin\": info.get('profitMargins', 0) * 100,\n",
    "    \"ROE\": info.get('returnOnEquity', 0) * 100,\n",
    "    \"Dividend Yield\": info.get('dividendYield', 0) * 100,\n",
    "    \"Payout Ratio\": info.get('payoutRatio', 0) * 100,\n",
    "    \"Debt-to-Equity\": info.get('debtToEquity', 'N/A'),\n",
    "    \"Market Cap\": info.get('marketCap', 'N/A'),\n",
    "    \"Beta\": info.get('beta', 'N/A')\n",
    "}\n",
    "\n",
    "# Print data\n",
    "for key, value in fundamentals.items():\n",
    "    print(f\"{key}: {value:.2f}\" if isinstance(value, (int, float)) else f\"{key}: {value}\")\n",
    "\n",
    "# For revenue growth (requires financials)\n",
    "financials = stock.financials\n",
    "if not financials.empty:\n",
    "    revenue = financials.loc['Total Revenue']\n",
    "    revenue_growth = ((revenue[0] - revenue[1]) / revenue[1] * 100) if len(revenue) > 1 else 0\n",
    "    print(f\"Revenue Growth (YoY): {revenue_growth:.2f}%\")"
   ]
  },
  {
   "cell_type": "code",
   "execution_count": null,
   "id": "b288cd79",
   "metadata": {},
   "outputs": [],
   "source": []
  }
 ],
 "metadata": {
  "kernelspec": {
   "display_name": "aiml",
   "language": "python",
   "name": "aiml"
  },
  "language_info": {
   "codemirror_mode": {
    "name": "ipython",
    "version": 3
   },
   "file_extension": ".py",
   "mimetype": "text/x-python",
   "name": "python",
   "nbconvert_exporter": "python",
   "pygments_lexer": "ipython3",
   "version": "3.11.5"
  }
 },
 "nbformat": 4,
 "nbformat_minor": 5
}
